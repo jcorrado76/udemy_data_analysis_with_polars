{
 "cells": [
  {
   "cell_type": "markdown",
   "id": "674913ae-6d37-4d8f-882c-ae2a95292a43",
   "metadata": {},
   "source": [
    "# Conversion to & from Pandas and Numpy\n",
    "By the end of this lecture you will be able to:\n",
    "- convert between a `DataFrame` and Numpy\n",
    "- convert a `Series` to `Numpy` with zero-copy\n",
    "- convert between a `DataFrame` and Polars"
   ]
  },
  {
   "cell_type": "code",
   "execution_count": null,
   "id": "a350b0f1-ff14-4097-94a2-a4f937b89fcd",
   "metadata": {
    "tags": []
   },
   "outputs": [],
   "source": [
    "import polars as pl\n",
    "import numpy as np\n",
    "import pandas as pd"
   ]
  },
  {
   "cell_type": "code",
   "execution_count": null,
   "id": "ee7a4ca2-4a74-41c0-8640-501a2f16a6e6",
   "metadata": {
    "tags": []
   },
   "outputs": [],
   "source": [
    "csvFile = \"../data/titanic.csv\""
   ]
  },
  {
   "cell_type": "code",
   "execution_count": null,
   "id": "a1c1b14e-6642-43ec-8185-2e0924d8ca85",
   "metadata": {
    "tags": []
   },
   "outputs": [],
   "source": [
    "df = pl.read_csv(csvFile)\n",
    "df.head(3)"
   ]
  },
  {
   "cell_type": "markdown",
   "id": "5c2b3e34-d707-4f38-910c-6f01c220b612",
   "metadata": {},
   "source": [
    "## Convert a `DataFrame` to Numpy\n",
    "\n",
    "To convert a `DataFrame` to Numpy use the `to_numpy` method. This clones (copies) the data."
   ]
  },
  {
   "cell_type": "code",
   "execution_count": null,
   "id": "72d5aa02-673d-4009-9c7c-32d1b6156e6d",
   "metadata": {
    "tags": []
   },
   "outputs": [],
   "source": [
    "arr = df.to_numpy()\n",
    "arr"
   ]
  },
  {
   "cell_type": "markdown",
   "id": "326a646c-3692-4bc9-874c-f9768fdc983e",
   "metadata": {},
   "source": [
    "This conversion turns each row into a Numpy `ndarray` and vertically stacks these row-arrays.\n",
    "\n",
    "As the `DataFrame` has a mix of types the Numpy array has an `object` dtype.\n",
    "\n",
    "If the columns have uniform numeric dtype then the Numpy array has the corresponding dtype.\n",
    "\n",
    "In this example we use `select` to choose the 64-bit floating point columns only for conversion to Numpy. We cover this in more detail in the Section on Selecting columns and transforming dataframes."
   ]
  },
  {
   "cell_type": "code",
   "execution_count": null,
   "id": "25afb65b-f944-4587-9180-61ecf40e2257",
   "metadata": {},
   "outputs": [],
   "source": [
    "(\n",
    "    df\n",
    "    .select(\n",
    "        pl.col(pl.Float64)\n",
    "    )\n",
    "    .to_numpy()\n",
    "    .dtype\n",
    ")"
   ]
  },
  {
   "cell_type": "markdown",
   "id": "9827837a-f8f5-4032-8a03-2aed5d46fcd9",
   "metadata": {},
   "source": [
    "Typically it is better to do the conversion to `Numpy` at the last moment as data processing in `Polars` is often faster and more memory efficient."
   ]
  },
  {
   "cell_type": "markdown",
   "id": "c9282f92-23f2-4f90-8b5d-77624b931d4d",
   "metadata": {},
   "source": [
    "## Convert Numpy to a `DataFrame`\n",
    "\n",
    "We can create a Polars `DataFrame` from a Numpy array"
   ]
  },
  {
   "cell_type": "code",
   "execution_count": null,
   "id": "982ba1d3-679d-482e-bd2a-1ba744b1a4e4",
   "metadata": {},
   "outputs": [],
   "source": [
    "rand_array = np.random.standard_normal((5,3))\n",
    "pl.DataFrame(rand_array)"
   ]
  },
  {
   "cell_type": "markdown",
   "id": "2b3cecc2-597c-4ed8-82b7-fab6f244f809",
   "metadata": {},
   "source": [
    "We can optionally pass a list of column names if we want to specify these"
   ]
  },
  {
   "cell_type": "markdown",
   "id": "3ee68560-83bc-4d45-a3c2-8345c58cbe0c",
   "metadata": {},
   "source": [
    "## Convert a `Series` to Numpy\n",
    "Converting a `Series` to Numpy has more options than converting an entire `DataFrame`.\n",
    "\n",
    "To do a simple conversion where the data is cloned use `to_numpy` on the `Series`"
   ]
  },
  {
   "cell_type": "code",
   "execution_count": null,
   "id": "c8a05fa8-f4c5-44be-8e43-967bbe619216",
   "metadata": {
    "tags": []
   },
   "outputs": [],
   "source": [
    "df['Age'].head().to_numpy()"
   ]
  },
  {
   "cell_type": "markdown",
   "id": "23fe66f4-a638-4669-b1ec-9325e00f093b",
   "metadata": {},
   "source": [
    "### Convert a `Series` to Numpy with zero-copy\n",
    "In some cases we can convert a `Series` to Numpy without copying (\"zero-copy\"). \n",
    "\n",
    "Zero-copy is possible if there are no `null` or `NaN` values."
   ]
  },
  {
   "cell_type": "code",
   "execution_count": null,
   "id": "b391eb3b-24d4-4076-9d10-af08f12bee2f",
   "metadata": {
    "tags": []
   },
   "outputs": [],
   "source": [
    "arr = df['Survived'].head().to_numpy(zero_copy_only=True)\n",
    "arr"
   ]
  },
  {
   "cell_type": "markdown",
   "id": "436351d6-6a74-4023-87ea-aec8f6effecf",
   "metadata": {},
   "source": [
    "With zero-copy conversion the Numpy array is read-only so you cannot change the values in the Numpy array.\n",
    "\n",
    "So the following effort to change a value raises an `Exception`"
   ]
  },
  {
   "cell_type": "code",
   "execution_count": null,
   "id": "7f401c96-7b23-4efa-a9a6-292ef41f2304",
   "metadata": {
    "tags": []
   },
   "outputs": [],
   "source": [
    "arr = df['Survived'].head().to_numpy(zero_copy_only=True)\n",
    "arr[0] = 100"
   ]
  },
  {
   "cell_type": "markdown",
   "id": "b6f1eff4-379e-4146-b12b-2a4bfbb0d894",
   "metadata": {},
   "source": [
    "## Convert a `DataFrame` to Pandas\n",
    "\n",
    "To convert a `DataFrame` to Pandas use the `to_pandas` method. This clones the data.\n",
    "\n",
    "To do this conversion you must have `PyArrow` installed with `pip` or `conda`."
   ]
  },
  {
   "cell_type": "code",
   "execution_count": null,
   "id": "1baa03b6-c56c-497d-9d8d-a6709055b340",
   "metadata": {},
   "outputs": [],
   "source": [
    "df.to_pandas().head()"
   ]
  },
  {
   "cell_type": "markdown",
   "id": "9b297566-69bd-4c44-aff3-b833052cb911",
   "metadata": {},
   "source": [
    "Warning - at present you can call `pd.DataFrame` on a Polars `DataFrame` but the result is:\n",
    "- transposed\n",
    "- has lost the column names"
   ]
  },
  {
   "cell_type": "code",
   "execution_count": null,
   "id": "861bacdd-68a7-4c0d-83e9-ed3fdbbd4f05",
   "metadata": {},
   "outputs": [],
   "source": [
    "pd.DataFrame(df).head()"
   ]
  },
  {
   "cell_type": "markdown",
   "id": "b60e4c86-8f08-42e3-988b-c5ad4f1065ae",
   "metadata": {},
   "source": [
    "Hopefully this conversion will be easier when both libraries have adopted the [dataframe interchange protocol](https://data-apis.org/dataframe-protocol/latest/index.html).\n",
    "\n",
    "There are some issues when converting an Arrow Table to or from a Pandas DataFrame such as differences in types. These issues are not Polars-specific but occur for any conversion from Arrow to Pandas. These are detailed here: https://arrow.apache.org/docs/python/pandas.html\n",
    "\n",
    "You can convert from Pandas to Polars by calling `pl.DataFrame`"
   ]
  },
  {
   "cell_type": "code",
   "execution_count": null,
   "id": "f7fdd9b7-6f30-4412-a7d0-ea6e2654b0e6",
   "metadata": {},
   "outputs": [],
   "source": [
    "pl.DataFrame(df.to_pandas()).head(3)"
   ]
  },
  {
   "cell_type": "markdown",
   "id": "be8b9c82-4197-413f-8198-6fd308127ab4",
   "metadata": {},
   "source": [
    "Or by calling `pl.from_pandas`"
   ]
  },
  {
   "cell_type": "code",
   "execution_count": null,
   "id": "6b8a1748-2852-46d3-a522-d4fe92fb80eb",
   "metadata": {},
   "outputs": [],
   "source": [
    "pl.from_pandas(df.to_pandas()).head(3)"
   ]
  },
  {
   "cell_type": "markdown",
   "id": "0a01bf8e-7495-446b-acba-dce16645da77",
   "metadata": {},
   "source": [
    "## Convert a `Series` to Pandas"
   ]
  },
  {
   "cell_type": "code",
   "execution_count": null,
   "id": "3139f054-e628-472b-b0f2-b6063605bccf",
   "metadata": {
    "tags": []
   },
   "outputs": [],
   "source": [
    "df['Age'].to_pandas().head()"
   ]
  },
  {
   "cell_type": "markdown",
   "id": "b3b50bc1-aa7f-4e05-ba6f-65808e0ea75e",
   "metadata": {},
   "source": [
    "## Exercises\n",
    "\n",
    "No exercises for this lecture!"
   ]
  }
 ],
 "metadata": {
  "kernelspec": {
   "display_name": "Python 3 (ipykernel)",
   "language": "python",
   "name": "python3"
  },
  "language_info": {
   "codemirror_mode": {
    "name": "ipython",
    "version": 3
   },
   "file_extension": ".py",
   "mimetype": "text/x-python",
   "name": "python",
   "nbconvert_exporter": "python",
   "pygments_lexer": "ipython3",
   "version": "3.10.1"
  }
 },
 "nbformat": 4,
 "nbformat_minor": 5
}
